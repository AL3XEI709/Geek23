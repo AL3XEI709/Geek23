{
 "cells": [
  {
   "cell_type": "code",
   "execution_count": null,
   "metadata": {},
   "outputs": [],
   "source": [
    "from pwn import *\n",
    "from Crypto.Util.number import *\n",
    "from hashlib import sha256\n",
    "from itertools import product \n",
    "import string \n",
    "table = string.ascii_letters+string.digits\n",
    "rec = remote('59.110.20.54', 8763) \n",
    "_ = rec.recvuntil(b'XXXX:')\n",
    "\n",
    "\n",
    "tail,h = _[12:28],_[33:97] \n",
    "for head in product(table,repeat=4): \n",
    "    m = \"\".join(head)+tail.decode() \n",
    "    h_ = sha256(m.encode()) \n",
    "    if h_.hexdigest() == h.decode():\n",
    "        print('find!') \n",
    "        break\n",
    "rec.sendline(\"\".join(head).encode())\n",
    "\n",
    "\n"
   ]
  },
  {
   "cell_type": "code",
   "execution_count": 37,
   "metadata": {},
   "outputs": [
    {
     "name": "stdout",
     "output_type": "stream",
     "text": [
      "25268601224462880798363475780137472485632382565393 27187486660889488941182061446120954271205635823499 32912065195293139078755791814902012088898355880367\n"
     ]
    }
   ],
   "source": [
    "import gmpy2 as gp \n",
    "cl = 4\n",
    "\n",
    "def solve(ct):\n",
    "    ct = [i for i in ct] \n",
    "    for _ in range(len(ct)): \n",
    "        if ct[_]==\")\" and ct[_+1] == \" \":\n",
    "            ct[_] = \"),\" \n",
    "    ct = \"\".join(ct) \n",
    "    ct = eval(ct) \n",
    "    x,y = [ct[i][0] for i in range(cl)], [ct[i][1] for i in range(cl)] \n",
    "    k1=(x[0]-x[2])*((y[0]^2-x[0]^3)-(y[1]^2-x[1]^3))-(x[0]-x[1])*((y[0]^2-x[0]^3)-(y[2]^2-x[2]^3))\n",
    "    k2=(x[0]-x[3])*((y[0]^2-x[0]^3)-(y[1]^2-x[1]^3))-(x[0]-x[1])*((y[0]^2-x[0]^3)-(y[3]^2-x[3]^3)) \n",
    "    p = gp.gcd(k1,k2) \n",
    "    p = factor(p)[-1][0] \n",
    "    assert is_prime(p) \n",
    "    a = ((y[0]^2-x[0]^3)-(y[1]^2-x[1]^3))*gp.invert(x[0]-x[1],p)%p \n",
    "    b = (y[0]^2-x[0]^3-a*x[0])%p \n",
    "    print(a,b,p)\n",
    "\n",
    "ct = \"[(2812664010462948495283086164288326309319248379295, 24626210776651326983324789773617092794195410087278) (3546387503482446621281000616774722502861399029684, 574036579795617994688861881765223228497854084247) (2624108622660030024649880704064421122345797281180, 7360188758690951610060514587358440331469012000157) (19611979207404271275125078082472919787069844881252, 13022794546445836359847061304267763203029565891558)]\"\n",
    "solve(ct)"
   ]
  }
 ],
 "metadata": {
  "kernelspec": {
   "display_name": "SageMath 9.5",
   "language": "sage",
   "name": "sagemath"
  },
  "language_info": {
   "codemirror_mode": {
    "name": "ipython",
    "version": 3
   },
   "file_extension": ".py",
   "mimetype": "text/x-python",
   "name": "python",
   "nbconvert_exporter": "python",
   "pygments_lexer": "ipython3",
   "version": "3.10.12"
  },
  "orig_nbformat": 4
 },
 "nbformat": 4,
 "nbformat_minor": 2
}
